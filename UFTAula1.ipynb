{
  "nbformat": 4,
  "nbformat_minor": 0,
  "metadata": {
    "colab": {
      "provenance": [],
      "authorship_tag": "ABX9TyOoU4tuAFfggsc+ashF29iV",
      "include_colab_link": true
    },
    "kernelspec": {
      "name": "python3",
      "display_name": "Python 3"
    },
    "language_info": {
      "name": "python"
    }
  },
  "cells": [
    {
      "cell_type": "markdown",
      "metadata": {
        "id": "view-in-github",
        "colab_type": "text"
      },
      "source": [
        "<a href=\"https://colab.research.google.com/github/wallaceporto/dados/blob/master/UFTAula1.ipynb\" target=\"_parent\"><img src=\"https://colab.research.google.com/assets/colab-badge.svg\" alt=\"Open In Colab\"/></a>"
      ]
    },
    {
      "cell_type": "code",
      "execution_count": 5,
      "metadata": {
        "id": "0o2cHntFl-nq"
      },
      "outputs": [],
      "source": [
        "# Calcular a média de dois números\n"
      ]
    },
    {
      "cell_type": "code",
      "source": [
        "    # Calcular a média de dois números\n",
        "    # Passo 1: Ler o primeiro número\n",
        "    numero1 = float(input(\"Digite o primeiro número: \"))\n",
        "\n",
        "    # Passo 2: Ler o segundo número\n",
        "    numero2 = float(input(\"Digite o segundo número: \"))\n",
        "\n",
        "    # Passo 3: Somar os dois números e armazenar o resultado em uma variável \"soma\"\n",
        "    soma = numero1 + numero2\n",
        "\n",
        "    # Passo 4: Dividir a soma por 2 para obter a média e armazenar o resultado em uma variável \"media\"\n",
        "    media = soma /2\n",
        "\n",
        "    # Passo 5: Exibir o valor da média na tela\n",
        "\n",
        "    print(f'Resultado - ',\"A média dos números é :\",media)\n",
        "\n",
        "    # Passo 6: Fim do algoritmo\n"
      ],
      "metadata": {
        "colab": {
          "base_uri": "https://localhost:8080/"
        },
        "id": "lfbco1yKmrck",
        "outputId": "7ce65cc3-25c8-4603-efba-c031c51592ad"
      },
      "execution_count": 12,
      "outputs": [
        {
          "output_type": "stream",
          "name": "stdout",
          "text": [
            "Digite o primeiro número: 1\n",
            "Digite o segundo número: 2\n",
            "Resultado -  A média dos números é : 1.5\n"
          ]
        }
      ]
    },
    {
      "cell_type": "code",
      "source": [
        "# Exemplo de um programa simples em Python\n",
        "# Declaração de uma variável nome = \"Maria Romilda\"\n",
        "# Exibição de uma mensagem na tela\n",
        "nome = \"Maria Romilda\"\n",
        "print(f'Resultado - ',\"Olá, \"+ nome + \"! Bem-vindo(a) ao mundo da programação em Python!\")"
      ],
      "metadata": {
        "colab": {
          "base_uri": "https://localhost:8080/"
        },
        "id": "HkhrBF22n1kW",
        "outputId": "b7bbef37-a6a2-4671-d09d-9c7390027166"
      },
      "execution_count": 21,
      "outputs": [
        {
          "output_type": "stream",
          "name": "stdout",
          "text": [
            "Resultado -  Olá, Maria Romilda! Bem-vindo(a) ao mundo da programação em Python!\n"
          ]
        }
      ]
    },
    {
      "cell_type": "code",
      "source": [],
      "metadata": {
        "id": "YkwT4O4Qsw0J"
      },
      "execution_count": null,
      "outputs": []
    }
  ]
}